{
 "cells": [
  {
   "cell_type": "code",
   "execution_count": 1,
   "metadata": {},
   "outputs": [],
   "source": [
    "import os\n",
    "import glob\n",
    "\n",
    "def rename_files_to_fits(folder_path):\n",
    "    \"\"\"\n",
    "    Renames files in the specified folder path to have a '.fits' extension.\n",
    "    \n",
    "    Args:\n",
    "        folder_path (str): The path to the folder containing the files.\n",
    "    \"\"\"\n",
    "    for filename in glob.glob(folder_path):\n",
    "        if '.' not in os.path.basename(filename):\n",
    "            new_filename = filename + '.fits'\n",
    "            os.rename(os.path.join(folder_path, filename), os.path.join(folder_path, new_filename))\n",
    "\n",
    "# Example usage\n",
    "rename_files_to_fits(r'/Users/arkhan/Documents/Aspera_Lamp_analysis/data/02-29-2024/*')"
   ]
  }
 ],
 "metadata": {
  "kernelspec": {
   "display_name": "base",
   "language": "python",
   "name": "python3"
  },
  "language_info": {
   "codemirror_mode": {
    "name": "ipython",
    "version": 3
   },
   "file_extension": ".py",
   "mimetype": "text/x-python",
   "name": "python",
   "nbconvert_exporter": "python",
   "pygments_lexer": "ipython3",
   "version": "3.11.5"
  }
 },
 "nbformat": 4,
 "nbformat_minor": 2
}
