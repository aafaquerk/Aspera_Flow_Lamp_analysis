{
 "cells": [
  {
   "cell_type": "code",
   "execution_count": 1,
   "metadata": {},
   "outputs": [],
   "source": [
    "import os\n",
    "import glob\n",
    "def rename_files_to_fits(folder_path):\n",
    "    for filename in glob.glob(folder_path):\n",
    "        if '.' not in os.path.basename(filename):\n",
    "            new_filename = filename + '.fits'\n",
    "            os.rename(os.path.join(folder_path, filename), os.path.join(folder_path, new_filename))\n",
    "\n",
    "rename_files_to_fits(r'/Users/arkhan/Documents/Aspera_Lamp_analysis/data/02-29-2024/*')"
   ]
  },
  {
   "cell_type": "code",
   "execution_count": 13,
   "metadata": {},
   "outputs": [
    {
     "data": {
      "text/plain": [
       "['/Users/arkhan/Documents/Aspera_Lamp_analysis/data/03-07-2024/Argon_11psi_0014_HV250mA_HV8.3kVDial_MCP2.85kV_b/test_03_04_1273_Ar_60sec.phd',\n",
       " '/Users/arkhan/Documents/Aspera_Lamp_analysis/data/03-07-2024/Argon_11psi_0014_HV250mA_HV8.3kVDial_MCP2.85kV_b/test_03_04_1263_Ar_60sec',\n",
       " '/Users/arkhan/Documents/Aspera_Lamp_analysis/data/03-07-2024/Argon_11psi_0014_HV250mA_HV8.3kVDial_MCP2.85kV_b/test_03_04_1243_Ar_60sec.phd',\n",
       " '/Users/arkhan/Documents/Aspera_Lamp_analysis/data/03-07-2024/Argon_11psi_0014_HV250mA_HV8.3kVDial_MCP2.85kV_b/test_03_04_1273_Ar_60sec',\n",
       " '/Users/arkhan/Documents/Aspera_Lamp_analysis/data/03-07-2024/Argon_11psi_0014_HV250mA_HV8.3kVDial_MCP2.85kV_b/test_03_04_1243_Ar_60sec',\n",
       " '/Users/arkhan/Documents/Aspera_Lamp_analysis/data/03-07-2024/Argon_11psi_0014_HV250mA_HV8.3kVDial_MCP2.85kV_b/test_03_04_1253_Ar_60sec',\n",
       " '/Users/arkhan/Documents/Aspera_Lamp_analysis/data/03-07-2024/Argon_11psi_0014_HV250mA_HV8.3kVDial_MCP2.85kV_b/test_03_04_1253_Ar_60sec.phd',\n",
       " '/Users/arkhan/Documents/Aspera_Lamp_analysis/data/03-07-2024/Argon_11psi_0014_HV250mA_HV8.3kVDial_MCP2.85kV_b/test_03_04_1263_Ar_60sec.phd',\n",
       " '/Users/arkhan/Documents/Aspera_Lamp_analysis/data/03-07-2024/Argon_11psi_0014_HV250mA_HV8.3kVDial_MCP2.85kV/test_03_04_1233_Ar_60sec.phd',\n",
       " '/Users/arkhan/Documents/Aspera_Lamp_analysis/data/03-07-2024/Argon_11psi_0014_HV250mA_HV8.3kVDial_MCP2.85kV/test_03_04_1273_Ar_60sec.phd',\n",
       " '/Users/arkhan/Documents/Aspera_Lamp_analysis/data/03-07-2024/Argon_11psi_0014_HV250mA_HV8.3kVDial_MCP2.85kV/test_03_04_1263_Ar_60sec',\n",
       " '/Users/arkhan/Documents/Aspera_Lamp_analysis/data/03-07-2024/Argon_11psi_0014_HV250mA_HV8.3kVDial_MCP2.85kV/test_03_04_1303_Ar_60sec.phd',\n",
       " '/Users/arkhan/Documents/Aspera_Lamp_analysis/data/03-07-2024/Argon_11psi_0014_HV250mA_HV8.3kVDial_MCP2.85kV/test_03_04_1313_Ar_30sec.phd',\n",
       " '/Users/arkhan/Documents/Aspera_Lamp_analysis/data/03-07-2024/Argon_11psi_0014_HV250mA_HV8.3kVDial_MCP2.85kV/test_03_04_1203_Ar_60sec',\n",
       " '/Users/arkhan/Documents/Aspera_Lamp_analysis/data/03-07-2024/Argon_11psi_0014_HV250mA_HV8.3kVDial_MCP2.85kV/test_03_04_1203_Ar_60sec.phd',\n",
       " '/Users/arkhan/Documents/Aspera_Lamp_analysis/data/03-07-2024/Argon_11psi_0014_HV250mA_HV8.3kVDial_MCP2.85kV/test_03_04_1193_Ar_60sec.phd',\n",
       " '/Users/arkhan/Documents/Aspera_Lamp_analysis/data/03-07-2024/Argon_11psi_0014_HV250mA_HV8.3kVDial_MCP2.85kV/test_03_04_1183_Ar_60sec',\n",
       " '/Users/arkhan/Documents/Aspera_Lamp_analysis/data/03-07-2024/Argon_11psi_0014_HV250mA_HV8.3kVDial_MCP2.85kV/test_03_04_1243_Ar_60sec.phd',\n",
       " '/Users/arkhan/Documents/Aspera_Lamp_analysis/data/03-07-2024/Argon_11psi_0014_HV250mA_HV8.3kVDial_MCP2.85kV/test_03_04_1273_Ar_60sec',\n",
       " '/Users/arkhan/Documents/Aspera_Lamp_analysis/data/03-07-2024/Argon_11psi_0014_HV250mA_HV8.3kVDial_MCP2.85kV/test_03_04_1213_Ar_60sec',\n",
       " '/Users/arkhan/Documents/Aspera_Lamp_analysis/data/03-07-2024/Argon_11psi_0014_HV250mA_HV8.3kVDial_MCP2.85kV/test_03_04_1293_Ar_60sec.phd',\n",
       " '/Users/arkhan/Documents/Aspera_Lamp_analysis/data/03-07-2024/Argon_11psi_0014_HV250mA_HV8.3kVDial_MCP2.85kV/test_03_04_1193_Ar_60sec',\n",
       " '/Users/arkhan/Documents/Aspera_Lamp_analysis/data/03-07-2024/Argon_11psi_0014_HV250mA_HV8.3kVDial_MCP2.85kV/test_03_04_1243_Ar_60sec',\n",
       " '/Users/arkhan/Documents/Aspera_Lamp_analysis/data/03-07-2024/Argon_11psi_0014_HV250mA_HV8.3kVDial_MCP2.85kV/test_03_04_1303_Ar_60sec',\n",
       " '/Users/arkhan/Documents/Aspera_Lamp_analysis/data/03-07-2024/Argon_11psi_0014_HV250mA_HV8.3kVDial_MCP2.85kV/test_03_04_1293_Ar_60sec',\n",
       " '/Users/arkhan/Documents/Aspera_Lamp_analysis/data/03-07-2024/Argon_11psi_0014_HV250mA_HV8.3kVDial_MCP2.85kV/test_03_04_1283_Ar_60sec.phd',\n",
       " '/Users/arkhan/Documents/Aspera_Lamp_analysis/data/03-07-2024/Argon_11psi_0014_HV250mA_HV8.3kVDial_MCP2.85kV/test_03_04_1223_Ar_60sec',\n",
       " '/Users/arkhan/Documents/Aspera_Lamp_analysis/data/03-07-2024/Argon_11psi_0014_HV250mA_HV8.3kVDial_MCP2.85kV/test_03_04_1253_Ar_60sec',\n",
       " '/Users/arkhan/Documents/Aspera_Lamp_analysis/data/03-07-2024/Argon_11psi_0014_HV250mA_HV8.3kVDial_MCP2.85kV/test_03_04_1253_Ar_60sec.phd',\n",
       " '/Users/arkhan/Documents/Aspera_Lamp_analysis/data/03-07-2024/Argon_11psi_0014_HV250mA_HV8.3kVDial_MCP2.85kV/test_03_04_1283_Ar_60sec',\n",
       " '/Users/arkhan/Documents/Aspera_Lamp_analysis/data/03-07-2024/Argon_11psi_0014_HV250mA_HV8.3kVDial_MCP2.85kV/test_03_04_1183_Ar_60sec.phd',\n",
       " '/Users/arkhan/Documents/Aspera_Lamp_analysis/data/03-07-2024/Argon_11psi_0014_HV250mA_HV8.3kVDial_MCP2.85kV/test_03_04_1213_Ar_60sec.phd',\n",
       " '/Users/arkhan/Documents/Aspera_Lamp_analysis/data/03-07-2024/Argon_11psi_0014_HV250mA_HV8.3kVDial_MCP2.85kV/test_03_04_1263_Ar_60sec.phd',\n",
       " '/Users/arkhan/Documents/Aspera_Lamp_analysis/data/03-07-2024/Argon_11psi_0014_HV250mA_HV8.3kVDial_MCP2.85kV/test_03_04_1223_Ar_60sec.phd',\n",
       " '/Users/arkhan/Documents/Aspera_Lamp_analysis/data/03-07-2024/Argon_11psi_0014_HV250mA_HV8.3kVDial_MCP2.85kV/test_03_04_1233_Ar_60sec',\n",
       " '/Users/arkhan/Documents/Aspera_Lamp_analysis/data/03-07-2024/Argon_11psi_0014_HV250mA_HV8.3kVDial_MCP2.85kV/test_03_04_1313_Ar_30sec']"
      ]
     },
     "execution_count": 13,
     "metadata": {},
     "output_type": "execute_result"
    }
   ],
   "source": [
    "glob.glob()"
   ]
  },
  {
   "cell_type": "code",
   "execution_count": null,
   "metadata": {},
   "outputs": [],
   "source": []
  }
 ],
 "metadata": {
  "kernelspec": {
   "display_name": "base",
   "language": "python",
   "name": "python3"
  },
  "language_info": {
   "codemirror_mode": {
    "name": "ipython",
    "version": 3
   },
   "file_extension": ".py",
   "mimetype": "text/x-python",
   "name": "python",
   "nbconvert_exporter": "python",
   "pygments_lexer": "ipython3",
   "version": "3.11.5"
  }
 },
 "nbformat": 4,
 "nbformat_minor": 2
}
